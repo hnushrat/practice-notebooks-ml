{
 "cells": [
  {
   "cell_type": "code",
   "execution_count": null,
   "metadata": {},
   "outputs": [],
   "source": [
    "#display employees in department 30\n",
    "#display names,empcode and deptcode for all clerks\n",
    "#display names of employees whose commission is 30% of their salaries\n",
    "#display names,job,salary of all employees in dept =20 and who earn more than 2000\n",
    "#display all salesman in dept 30 whose salary is greater than 1500\n",
    "#display all the managers in any department and clerks in department 20\n",
    "#display all the managers in department 10 and all the clerks in department 20 and all employees who are neither managers nor clerks but whose salary is more than 2000"
   ]
  },
  {
   "cell_type": "code",
   "execution_count": 40,
   "metadata": {},
   "outputs": [
    {
     "name": "stdout",
     "output_type": "stream",
     "text": [
      "    empno   ename        job     mgr    hiredate   sal    comm  deptno\n",
      "0    7369   SMITH      CLERK  7902.0  13-06-1993   800     0.0      20\n",
      "1    7499   ALLEN   SALESMAN  7698.0  15-08-1998  1600   300.0      30\n",
      "2    7521    WARD   SALESMAN  7698.0  26-03-1996  1250   500.0      30\n",
      "3    7566   JONES    MANAGER  7839.0  31-10-1995  2975     NaN      20\n",
      "4    7698   BLAKE    MANAGER  7839.0  11-06-1992  2850     NaN      30\n",
      "5    7782   CLARK    MANAGER  7839.0  14-05-1993  2450     NaN      10\n",
      "6    7788   SCOTT    ANALYST  7566.0  05-03-1996  3000     NaN      20\n",
      "7    7839    KING  PRESIDENT     NaN  09-06-1990  5000     0.0      10\n",
      "8    7844  TURNER   SALESMAN  7698.0  04-06-1995  1500     0.0      30\n",
      "9    7876   ADAMS      CLERK  7788.0  04-06-1999  1100     NaN      20\n",
      "10   7900   JAMES      CLERK  7698.0  23-06-2000   950     NaN      30\n",
      "11   7934  MILLER      CLERK  7782.0  21-01-2000  1300     NaN      10\n",
      "12   7902    FORD    ANALYST  7566.0  05-12-1997  3000     NaN      20\n",
      "13   7654  MARTIN   SALESMAN  7698.0  05-12-1998  1250  1400.0      30\n"
     ]
    }
   ],
   "source": [
    "print(data)"
   ]
  },
  {
   "cell_type": "code",
   "execution_count": 39,
   "metadata": {
    "scrolled": true
   },
   "outputs": [
    {
     "data": {
      "text/html": [
       "<div>\n",
       "<style scoped>\n",
       "    .dataframe tbody tr th:only-of-type {\n",
       "        vertical-align: middle;\n",
       "    }\n",
       "\n",
       "    .dataframe tbody tr th {\n",
       "        vertical-align: top;\n",
       "    }\n",
       "\n",
       "    .dataframe thead th {\n",
       "        text-align: right;\n",
       "    }\n",
       "</style>\n",
       "<table border=\"1\" class=\"dataframe\">\n",
       "  <thead>\n",
       "    <tr style=\"text-align: right;\">\n",
       "      <th></th>\n",
       "      <th>ename</th>\n",
       "      <th>deptno</th>\n",
       "    </tr>\n",
       "  </thead>\n",
       "  <tbody>\n",
       "    <tr>\n",
       "      <th>1</th>\n",
       "      <td>ALLEN</td>\n",
       "      <td>30</td>\n",
       "    </tr>\n",
       "    <tr>\n",
       "      <th>2</th>\n",
       "      <td>WARD</td>\n",
       "      <td>30</td>\n",
       "    </tr>\n",
       "    <tr>\n",
       "      <th>4</th>\n",
       "      <td>BLAKE</td>\n",
       "      <td>30</td>\n",
       "    </tr>\n",
       "    <tr>\n",
       "      <th>8</th>\n",
       "      <td>TURNER</td>\n",
       "      <td>30</td>\n",
       "    </tr>\n",
       "    <tr>\n",
       "      <th>10</th>\n",
       "      <td>JAMES</td>\n",
       "      <td>30</td>\n",
       "    </tr>\n",
       "    <tr>\n",
       "      <th>13</th>\n",
       "      <td>MARTIN</td>\n",
       "      <td>30</td>\n",
       "    </tr>\n",
       "  </tbody>\n",
       "</table>\n",
       "</div>"
      ],
      "text/plain": [
       "     ename  deptno\n",
       "1    ALLEN      30\n",
       "2     WARD      30\n",
       "4    BLAKE      30\n",
       "8   TURNER      30\n",
       "10   JAMES      30\n",
       "13  MARTIN      30"
      ]
     },
     "execution_count": 39,
     "metadata": {},
     "output_type": "execute_result"
    }
   ],
   "source": [
    "import pandas as pd\n",
    "data=pd.read_csv(\"Employee.csv\")\n",
    "d=pd.DataFrame(data,columns=[\"ename\",\"deptno\"])\n",
    "d.loc[d[\"deptno\"]==30]"
   ]
  },
  {
   "cell_type": "code",
   "execution_count": 49,
   "metadata": {},
   "outputs": [
    {
     "name": "stdout",
     "output_type": "stream",
     "text": [
      "     ename  empno  deptno\n",
      "0    SMITH   7369      20\n",
      "9    ADAMS   7876      20\n",
      "10   JAMES   7900      30\n",
      "11  MILLER   7934      10\n"
     ]
    }
   ],
   "source": [
    "d=pd.DataFrame(data,columns=[\"ename\",\"empno\",\"job\",\"deptno\"])\n",
    "#print(d)\n",
    "d=d.loc[d[\"job\"]==\"CLERK\"]\n",
    "del d['job']\n",
    "print(d)"
   ]
  },
  {
   "cell_type": "code",
   "execution_count": 56,
   "metadata": {},
   "outputs": [
    {
     "name": "stdout",
     "output_type": "stream",
     "text": [
      "Empty DataFrame\n",
      "Columns: [ename, sal, comm]\n",
      "Index: []\n"
     ]
    }
   ],
   "source": [
    "d=pd.DataFrame(data,columns=[\"ename\",\"sal\",\"comm\"])\n",
    "d=d.loc[d[\"sal\"]==0.3*d[\"sal\"]]\n",
    "print(d)"
   ]
  },
  {
   "cell_type": "code",
   "execution_count": 62,
   "metadata": {},
   "outputs": [
    {
     "name": "stdout",
     "output_type": "stream",
     "text": [
      "    ename      job   sal\n",
      "3   JONES  MANAGER  2975\n",
      "6   SCOTT  ANALYST  3000\n",
      "12   FORD  ANALYST  3000\n"
     ]
    }
   ],
   "source": [
    "d=pd.DataFrame(data,columns=[\"ename\",\"job\",\"sal\",\"deptno\"])\n",
    "d=d.loc[d[\"deptno\"]==20 ]\n",
    "d=d.loc[d[\"sal\"]>2000]\n",
    "del d[\"deptno\"]\n",
    "print(d)"
   ]
  },
  {
   "cell_type": "code",
   "execution_count": null,
   "metadata": {},
   "outputs": [],
   "source": []
  }
 ],
 "metadata": {
  "kernelspec": {
   "display_name": "Python 3",
   "language": "python",
   "name": "python3"
  },
  "language_info": {
   "codemirror_mode": {
    "name": "ipython",
    "version": 3
   },
   "file_extension": ".py",
   "mimetype": "text/x-python",
   "name": "python",
   "nbconvert_exporter": "python",
   "pygments_lexer": "ipython3",
   "version": "3.7.3"
  }
 },
 "nbformat": 4,
 "nbformat_minor": 2
}
