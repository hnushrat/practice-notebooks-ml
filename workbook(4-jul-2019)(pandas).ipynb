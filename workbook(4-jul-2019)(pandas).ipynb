{
 "cells": [
  {
   "cell_type": "code",
   "execution_count": 1,
   "metadata": {},
   "outputs": [
    {
     "name": "stdout",
     "output_type": "stream",
     "text": [
      "Empty df : Empty DataFrame\n",
      "Columns: []\n",
      "Index: []\n"
     ]
    }
   ],
   "source": [
    "import pandas as pd\n",
    "df1=pd.DataFrame()\n",
    "print(\"Empty df :\",df1)"
   ]
  },
  {
   "cell_type": "code",
   "execution_count": 2,
   "metadata": {},
   "outputs": [
    {
     "name": "stdout",
     "output_type": "stream",
     "text": [
      "   0\n",
      "0  1\n",
      "1  2\n",
      "2  3\n",
      "3  4\n"
     ]
    }
   ],
   "source": [
    "list1=[1,2,3,4]\n",
    "df2=pd.DataFrame(list1)\n",
    "print(df2)"
   ]
  },
  {
   "cell_type": "code",
   "execution_count": 3,
   "metadata": {},
   "outputs": [
    {
     "name": "stdout",
     "output_type": "stream",
     "text": [
      "   0  1  2\n",
      "0  1  2  3\n",
      "1  4  5  6\n",
      "2  7  8  9\n"
     ]
    }
   ],
   "source": [
    "#create df from list of lists with default column names\n",
    "list2=[[1,2,3],[4,5,6],[7,8,9]]\n",
    "df3=pd.DataFrame(list2)\n",
    "print(df3)"
   ]
  },
  {
   "cell_type": "code",
   "execution_count": 68,
   "metadata": {},
   "outputs": [
    {
     "name": "stdout",
     "output_type": "stream",
     "text": [
      "  Cricketer   Runs\n",
      "0    Sachin  10000\n",
      "1       MSD  20000\n",
      "2     Virat   5000\n",
      "\n",
      "\n",
      "\n",
      "<class 'pandas.core.frame.DataFrame'>\n",
      "RangeIndex: 3 entries, 0 to 2\n",
      "Data columns (total 2 columns):\n",
      "Cricketer    3 non-null object\n",
      "Runs         3 non-null int64\n",
      "dtypes: int64(1), object(1)\n",
      "memory usage: 128.0+ bytes\n",
      "\n",
      "\n",
      "\n"
     ]
    },
    {
     "data": {
      "text/plain": [
       "count       3\n",
       "unique      3\n",
       "top       MSD\n",
       "freq        1\n",
       "Name: Cricketer, dtype: object"
      ]
     },
     "execution_count": 68,
     "metadata": {},
     "output_type": "execute_result"
    }
   ],
   "source": [
    "#create df from list of lists with defined column names\n",
    "list3=[['Sachin',10000],['MSD',20000],['Virat',5000]]\n",
    "df4=pd.DataFrame(list3,columns=['Cricketer','Runs'])\n",
    "print(df4)\n",
    "print(\"\\n\\n\")\n",
    "df4.info()\n",
    "df4[\"Runs\"].describe()\n",
    "print(\"\\n\\n\")\n",
    "df4[\"Cricketer\"].describe()"
   ]
  },
  {
   "cell_type": "code",
   "execution_count": 4,
   "metadata": {},
   "outputs": [
    {
     "name": "stdout",
     "output_type": "stream",
     "text": [
      "df from dictionary :\n",
      "      Name   Runs\n",
      "0  Sachin  10000\n",
      "1  Sourav  20000\n",
      "2  Sachin  40000\n"
     ]
    }
   ],
   "source": [
    "#create a df from dict of ndarrays/list\n",
    "dict1={\"Name\":['Sachin','Sourav','Sachin'],\"Runs\":[10000,20000,40000]}\n",
    "df5=pd.DataFrame(dict1)\n",
    "print(\"df from dictionary :\\n\",df5)#keys are the column names by default"
   ]
  },
  {
   "cell_type": "code",
   "execution_count": 6,
   "metadata": {},
   "outputs": [
    {
     "name": "stdout",
     "output_type": "stream",
     "text": [
      "df from dictionary :\n",
      "          Name   Runs\n",
      "Rank1  Sachin  10000\n",
      "Rank2  Sourav  20000\n",
      "Rank3  Sachin  40000\n"
     ]
    }
   ],
   "source": [
    "#index df from above\n",
    "dict1={\"Name\":['Sachin','Sourav','Sachin'],\"Runs\":[10000,20000,40000]}\n",
    "df5=pd.DataFrame(dict1,index=[\"Rank1\",\"Rank2\",\"Rank3\"])\n",
    "print(\"df from dictionary :\\n\",df5)"
   ]
  },
  {
   "cell_type": "code",
   "execution_count": 6,
   "metadata": {},
   "outputs": [
    {
     "name": "stdout",
     "output_type": "stream",
     "text": [
      "df from list of dict :\n",
      "    a  b     c\n",
      "0  1  2   NaN\n",
      "1  4  5  10.0\n",
      "\n",
      "df from list of dict :\n",
      "    a   d\n",
      "0  1 NaN\n",
      "1  4 NaN\n"
     ]
    }
   ],
   "source": [
    "list4=[{\"a\":1,\"b\":2},{\"a\":4,\"b\":5,\"c\":10}]\n",
    "df7=pd.DataFrame(list4)\n",
    "print(\"df from list of dict :\\n\",df7)\n",
    "df8=pd.DataFrame(list4,columns=['a','d'])\n",
    "print(\"\\ndf from list of dict :\\n\",df8)"
   ]
  },
  {
   "cell_type": "code",
   "execution_count": 47,
   "metadata": {},
   "outputs": [
    {
     "name": "stdout",
     "output_type": "stream",
     "text": [
      "   one  two\n",
      "a  1.0    4\n",
      "b  2.0    5\n",
      "c  3.0    6\n",
      "d  NaN    7\n",
      "\n",
      "after adding third column :\n",
      "    one  two  three\n",
      "a  1.0    4   10.0\n",
      "b  2.0    5   11.0\n",
      "c  3.0    6   12.0\n",
      "d  NaN    7    NaN\n"
     ]
    }
   ],
   "source": [
    "#create df from dict of series\n",
    "data={\"one\":pd.Series([1,2,3],index=['a','b','c']),\"two\":pd.Series([4,5,6,7],index=['a','b','c','d'])}\n",
    "df8=pd.DataFrame(data)\n",
    "print(df8)\n",
    "\n",
    "#adding new column\n",
    "\n",
    "df8[\"three\"]=pd.Series([10,11,12],index=['a','b','c'])\n",
    "print(\"\\nafter adding third column :\\n\",df8)"
   ]
  },
  {
   "cell_type": "code",
   "execution_count": 49,
   "metadata": {},
   "outputs": [
    {
     "name": "stdout",
     "output_type": "stream",
     "text": [
      "df after adding column :\n",
      "    one  two  three  four\n",
      "a  1.0    4   10.0  11.0\n",
      "b  2.0    5   11.0  13.0\n",
      "c  3.0    6   12.0  15.0\n",
      "d  NaN    7    NaN   NaN\n"
     ]
    }
   ],
   "source": [
    "#add new column with existing columns\n",
    "df8[\"four\"]=df8[\"one\"]+df8[\"three\"]\n",
    "print(\"df after adding column :\\n\",df8)"
   ]
  },
  {
   "cell_type": "code",
   "execution_count": 50,
   "metadata": {
    "scrolled": true
   },
   "outputs": [
    {
     "name": "stdout",
     "output_type": "stream",
     "text": [
      "   One  Two  three  four\n",
      "a  1.0    4   10.0  11.0\n",
      "b  2.0    5   11.0  13.0\n",
      "c  3.0    6   12.0  15.0\n",
      "d  NaN    7    NaN   NaN\n"
     ]
    }
   ],
   "source": [
    "#rename a column\n",
    "df8.rename(columns={'one':'One','two':'Two'},inplace=True)\n",
    "print(df8)"
   ]
  },
  {
   "cell_type": "code",
   "execution_count": 28,
   "metadata": {},
   "outputs": [
    {
     "name": "stdout",
     "output_type": "stream",
     "text": [
      "   One  Two  three  four\n",
      "b  2.0    5   11.0  13.0\n",
      "c  3.0    6   12.0  15.0\n"
     ]
    }
   ],
   "source": [
    "#row selection\n",
    "print(df8.loc[\"b\":\"c\"]) #b to c is not indexed ; labels are not indexed so shows b to c"
   ]
  },
  {
   "cell_type": "code",
   "execution_count": 51,
   "metadata": {},
   "outputs": [
    {
     "name": "stdout",
     "output_type": "stream",
     "text": [
      "   One  Two  three  four\n",
      "a  1.0    4   10.0  11.0\n",
      "b  2.0    5   11.0  13.0\n",
      "c  3.0    6   12.0  15.0\n",
      "   Two  three\n",
      "b    5   11.0\n",
      "c    6   12.0\n",
      "d    7    NaN\n",
      "   One  Two\n",
      "b  2.0    5\n",
      "c  3.0    6\n",
      "   Two  four\n",
      "a    4  11.0\n",
      "b    5  13.0\n",
      "c    6  15.0\n",
      "   One  Two  three  four\n",
      "a  1.0    4   10.0  11.0\n",
      "b  2.0    5   11.0  13.0\n",
      "c  3.0    6   12.0  15.0\n",
      "   One  four\n",
      "a  1.0  11.0\n",
      "b  2.0  13.0\n",
      "   One  four\n",
      "a  1.0  11.0\n",
      "b  2.0  13.0\n",
      "c  3.0  15.0\n"
     ]
    }
   ],
   "source": [
    "#index based\n",
    "#select only rows\n",
    "print(df8.iloc[0:3])\n",
    "\n",
    "#select rows and columns\n",
    "print(df8.iloc[[1,2,3],[1,2]])\n",
    "\n",
    "#slicing operator\n",
    "print(df8.iloc[1:3,0:2])\n",
    "print(df8.iloc[0:3,[1,3]])\n",
    "\n",
    "#label based\n",
    "print(df8.loc['a':'c','One':'four'])\n",
    "print(df8.loc[['a','b'],['One','four']])\n",
    "print(df8.loc['a':'c',['One','four']])"
   ]
  },
  {
   "cell_type": "code",
   "execution_count": 52,
   "metadata": {},
   "outputs": [
    {
     "name": "stdout",
     "output_type": "stream",
     "text": [
      "after appending 2 rows row :\n",
      "     One  Two  four  three\n",
      "a   1.0    4  11.0   10.0\n",
      "b   2.0    5  13.0   11.0\n",
      "c   3.0    6  15.0   12.0\n",
      "d   NaN    7   NaN    NaN\n",
      "0  99.0   98  76.0    NaN\n",
      "1  78.0   76  91.0    NaN\n"
     ]
    }
   ],
   "source": [
    "#append row\n",
    "tempdf=pd.DataFrame([[99,98,76],[78,76,91]],columns=[\"One\",\"Two\",\"four\"])\n",
    "df8=df8.append(tempdf)\n",
    "#df8.append(tempdf,inplace=True)\n",
    "print(\"after appending 2 rows row :\\n\",df8)"
   ]
  },
  {
   "cell_type": "code",
   "execution_count": 57,
   "metadata": {},
   "outputs": [
    {
     "name": "stdout",
     "output_type": "stream",
     "text": [
      "    One  Two  four  three\n",
      "a   1.0    4  11.0   10.0\n",
      "b   2.0    5  13.0   11.0\n",
      "c   3.0    6  15.0   12.0\n",
      "d   NaN    7   NaN    NaN\n",
      "0  99.0   98  76.0    NaN\n",
      "1  78.0   76  91.0    NaN\n",
      "\n",
      "checking 0 is label : \n",
      " One       1.0\n",
      "Two       4.0\n",
      "four     11.0\n",
      "three    10.0\n",
      "Name: a, dtype: float64\n"
     ]
    }
   ],
   "source": [
    "print(df8)\n",
    "print(\"\\nchecking 0 is label : \\n\",df8.iloc[0])"
   ]
  },
  {
   "cell_type": "code",
   "execution_count": 58,
   "metadata": {},
   "outputs": [
    {
     "name": "stdout",
     "output_type": "stream",
     "text": [
      "after deleting 1st row :\n",
      "     One  Two  four  three\n",
      "c   3.0    6  15.0   12.0\n",
      "d   NaN    7   NaN    NaN\n",
      "0  99.0   98  76.0    NaN\n",
      "1  78.0   76  91.0    NaN\n"
     ]
    }
   ],
   "source": [
    "#deletion of row\n",
    "df8=df8.drop(\"a\")\n",
    "df8=df8.drop(df8.index[0])\n",
    "print(\"after deleting 1st row :\\n\",df8)"
   ]
  },
  {
   "cell_type": "code",
   "execution_count": 60,
   "metadata": {},
   "outputs": [
    {
     "name": "stdout",
     "output_type": "stream",
     "text": [
      "the length of dataframe : 16\n",
      "\n",
      "the top 2 rows :\n",
      "    One  Two  four  three\n",
      "c  3.0    6  15.0   12.0\n",
      "d  NaN    7   NaN    NaN\n",
      "\n",
      "the top 2 rows :\n",
      "     One  Two  four  three\n",
      "0  99.0   98  76.0    NaN\n",
      "1  78.0   76  91.0    NaN\n"
     ]
    }
   ],
   "source": [
    "#size\n",
    "print(\"the length of dataframe :\",df8.size)\n",
    "\n",
    "#top 2 rows\n",
    "print(\"\\nthe top 2 rows :\\n\",df8.head(2))\n",
    "\n",
    "#bottom 2 rows\n",
    "print(\"\\nthe top 2 rows :\\n\",df8.tail(2))"
   ]
  },
  {
   "cell_type": "code",
   "execution_count": null,
   "metadata": {},
   "outputs": [],
   "source": [
    "#Data manipulation in dataframe\n",
    "#command--> <object of pandas>.read_csv(\"<file_name.csv>\")"
   ]
  }
 ],
 "metadata": {
  "kernelspec": {
   "display_name": "Python 3",
   "language": "python",
   "name": "python3"
  },
  "language_info": {
   "codemirror_mode": {
    "name": "ipython",
    "version": 3
   },
   "file_extension": ".py",
   "mimetype": "text/x-python",
   "name": "python",
   "nbconvert_exporter": "python",
   "pygments_lexer": "ipython3",
   "version": "3.7.3"
  }
 },
 "nbformat": 4,
 "nbformat_minor": 2
}
