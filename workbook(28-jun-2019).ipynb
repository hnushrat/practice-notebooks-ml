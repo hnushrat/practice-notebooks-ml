{
 "cells": [
  {
   "cell_type": "code",
   "execution_count": 12,
   "metadata": {},
   "outputs": [
    {
     "name": "stdout",
     "output_type": "stream",
     "text": [
      "The list : [1, 2, 3, 4]\n",
      "value of list[1]: 2\n",
      "length of list1: 4\n",
      "Values in list are :  1\n",
      "Values in list are :  2\n",
      "Values in list are :  3\n",
      "Values in list are :  4\n"
     ]
    }
   ],
   "source": [
    "list1=[1,2,3,4]\n",
    "print(\"The list :\",list1)\n",
    "print(\"value of list[1]:\",list1[1])\n",
    "print(\"length of list1:\",len(list1))\n",
    "for x in list1:\n",
    "    print(\"Values in list are : \",x)"
   ]
  },
  {
   "cell_type": "code",
   "execution_count": 2,
   "metadata": {},
   "outputs": [
    {
     "name": "stdout",
     "output_type": "stream",
     "text": [
      "[1, 2, 3, 4]\n",
      "[1, 2, 1000, 3, 4]\n",
      "[1, 2, 1000, 3, 4, 98]\n",
      "extended list1 :  [1, 2, 1000, 3, 4, 98, 5, 6, 7, 8]\n"
     ]
    }
   ],
   "source": [
    "#insert,append,extend\n",
    "list1=[1,2,3,4]\n",
    "list2=[5,6,7,8]\n",
    "print(list1)\n",
    "\n",
    "list1.insert(2,1000)\n",
    "print(list1)\n",
    "\n",
    "list1.append(98)\n",
    "print(list1)\n",
    "\n",
    "list1.extend(list2)\n",
    "print(\"extended list1 : \",list1)"
   ]
  },
  {
   "cell_type": "code",
   "execution_count": 18,
   "metadata": {},
   "outputs": [
    {
     "name": "stdout",
     "output_type": "stream",
     "text": [
      "list after deletion [2, 3, 4, 5, 6, 7]\n",
      "list after deletion: [2, 3, 4, 5, 6]\n",
      "after pop: [3, 4, 5, 6]\n",
      "value popped up: 2\n"
     ]
    }
   ],
   "source": [
    "list1=[1,2,3,4,5,6,7]\n",
    "#delete from index\n",
    "del list1[0]\n",
    "print(\"list after deletion\",list1)\n",
    "\n",
    "#delete exact value from list,takes value to delete as input\n",
    "\n",
    "list1.remove(7)\n",
    "print(\"list after deletion:\",list1)\n",
    "\n",
    "#pop method shows value deleted, takes index as input\n",
    "\n",
    "var=list1.pop(0)\n",
    "print(\"after pop:\",list1)\n",
    "print(\"value popped up:\",var)"
   ]
  },
  {
   "cell_type": "code",
   "execution_count": 20,
   "metadata": {},
   "outputs": [
    {
     "name": "stdout",
     "output_type": "stream",
     "text": [
      "[1, 4, 3, 7, 2]\n",
      "[1, 2, 3, 4, 7]\n",
      "[7, 4, 3, 2, 1]\n"
     ]
    }
   ],
   "source": [
    "#sorting\n",
    "list1=[1,4,3,7,2]\n",
    "print(list1)\n",
    "\n",
    "#increasing order\n",
    "\n",
    "list1.sort()\n",
    "print(list1)\n",
    "\n",
    "#decreasing order\n",
    "\n",
    "list1.sort(reverse=True)\n",
    "print(list1)"
   ]
  },
  {
   "cell_type": "code",
   "execution_count": 22,
   "metadata": {},
   "outputs": [
    {
     "name": "stdout",
     "output_type": "stream",
     "text": [
      "[11, 2, 4, 6]\n",
      "[12]\n"
     ]
    }
   ],
   "source": [
    "#creating list of lists\n",
    "\n",
    "T=[[11,2,4,6],[45,67,12],[55,90,7]]\n",
    "print(T[0])\n",
    "print([T[1][2]])\n"
   ]
  },
  {
   "cell_type": "code",
   "execution_count": 3,
   "metadata": {},
   "outputs": [
    {
     "name": "stdout",
     "output_type": "stream",
     "text": [
      "11 2 4 6 \n",
      "45 7 1 \n",
      "55 90 7 \n"
     ]
    }
   ],
   "source": [
    "#print entire 2D list\n",
    "T=[[11,2,4,6],[45,7,1],[55,90,7]]\n",
    "for r in T:\n",
    "    for c in r:\n",
    "        print(c,end=\" \")\n",
    "    print()\n"
   ]
  },
  {
   "cell_type": "code",
   "execution_count": 30,
   "metadata": {},
   "outputs": [
    {
     "name": "stdout",
     "output_type": "stream",
     "text": [
      "2\n"
     ]
    }
   ],
   "source": [
    "#WAP to count number of strings in a list whose length are greater than 4 and the first and last character are same.\n",
    "\n",
    "list2=[\"madam\",\"hello\",\"maam\",\"abcda\"]\n",
    "count=0\n",
    "for i in list2:\n",
    "    if len(i)>4:\n",
    "        if i[0]==i[-1]:\n",
    "            count=count+1\n",
    "print(count)"
   ]
  },
  {
   "cell_type": "code",
   "execution_count": 6,
   "metadata": {},
   "outputs": [
    {
     "name": "stdout",
     "output_type": "stream",
     "text": [
      "[1, 2, 3, 4, 6]\n"
     ]
    }
   ],
   "source": [
    "#create a list of integers with some duplicate values. WAP to create a list of unique values from the previous list.\n",
    "\n",
    "list3=[1,2,2,2,3,4,6]\n",
    "list4=[]\n",
    "list3.sort()\n",
    "list4.append(list3[0])\n",
    "for i in list3:\n",
    "    if i>list4[-1]:\n",
    "        list4.append(i)\n",
    "print(list4)"
   ]
  },
  {
   "cell_type": "code",
   "execution_count": 10,
   "metadata": {},
   "outputs": [
    {
     "name": "stdout",
     "output_type": "stream",
     "text": [
      "[1, 3, 5, 7, 9, 11, 13, 15, 17, 19]\n"
     ]
    }
   ],
   "source": [
    "#WAP to create a list of odd numbers between 0 and 10.\n",
    "\n",
    "list5=[]\n",
    "\n",
    "for i in range(0,21):\n",
    "    if i%2!=0:\n",
    "        list5.append(i)\n",
    "print(list5)"
   ]
  },
  {
   "cell_type": "code",
   "execution_count": 9,
   "metadata": {},
   "outputs": [
    {
     "name": "stdout",
     "output_type": "stream",
     "text": [
      "[1, 3, 5, 7, 9]\n"
     ]
    }
   ],
   "source": [
    "#list of odd numbers using LIST COMPREHENSION.\n",
    "\n",
    "oddlist=[x for x in range(11) if (x%2!=0)]\n",
    "print(oddlist)"
   ]
  },
  {
   "cell_type": "code",
   "execution_count": 18,
   "metadata": {},
   "outputs": [
    {
     "name": "stdout",
     "output_type": "stream",
     "text": [
      "{'A09N': 'admin', 'H7$w': 'school', 'run': '1200'}\n",
      "Values of keys are :  admin , school , 1200 , 34500\n",
      "3\n",
      "('run', 34500)\n",
      "admin\n",
      "{'H7$w': 'school'}\n"
     ]
    }
   ],
   "source": [
    "dict1={\"A09N\":\"admin\",\"H7$w\":\"school\",\"run\":\"1200\"}\n",
    " #show key+values----\n",
    "print(dict1)\n",
    "\n",
    "#show only values----\n",
    "print(\"Values of keys are : \",end=\" \")\n",
    "for i in dict1:\n",
    "    print(dict1[i],\",\",end=\" \")\n",
    "\n",
    "#updating value in dictionary----\n",
    "\n",
    "dict1[\"run\"]=34500\n",
    "print(dict1[\"run\"])\n",
    "print(len(dict1))\n",
    "\n",
    "#popitem()----shows key+value deleted from last index\n",
    "\n",
    "var=dict1.popitem()\n",
    "print(var)\n",
    "\n",
    "#pop(<key>)---shows deleted value only\n",
    "\n",
    "var=dict1.pop(\"A09N\")\n",
    "print(var)\n",
    "\n",
    "print(dict1)"
   ]
  },
  {
   "cell_type": "code",
   "execution_count": 23,
   "metadata": {},
   "outputs": [
    {
     "name": "stdout",
     "output_type": "stream",
     "text": [
      "1 1\n",
      "2 4\n",
      "4 16\n"
     ]
    }
   ],
   "source": [
    "#create a dictionary\n",
    "#1.display count of elements whose key are between 1 and 10, values are the square of the keys\n",
    "\n",
    "d={1:1,2:4,3:10,4:16,5:15,11:121,20:400}\n",
    "for i in d:\n",
    "    if i<10 and d[i]==i*i:\n",
    "        print(i,d[i])"
   ]
  },
  {
   "cell_type": "code",
   "execution_count": 31,
   "metadata": {},
   "outputs": [
    {
     "name": "stdout",
     "output_type": "stream",
     "text": [
      "['Mon', 'Tue', 'Wed', 'Thu', 'Fri', 'Sat', 'Sun']\n"
     ]
    }
   ],
   "source": [
    "#create a new list of a given list having Weekdays in expanded form and new list contains first 3 characters of each weekdays.\n",
    "\n",
    "l1=[\"Monday\",\"Tuesday\",\"Wednesday\",\"Thursday\",\"Friday\",\"Saturday\",\"Sunday\"]\n",
    "\n",
    "l2=[x[:3] for x in l1]\n",
    "print(l2)"
   ]
  },
  {
   "cell_type": "code",
   "execution_count": null,
   "metadata": {},
   "outputs": [],
   "source": []
  }
 ],
 "metadata": {
  "kernelspec": {
   "display_name": "Python 3",
   "language": "python",
   "name": "python3"
  },
  "language_info": {
   "codemirror_mode": {
    "name": "ipython",
    "version": 3
   },
   "file_extension": ".py",
   "mimetype": "text/x-python",
   "name": "python",
   "nbconvert_exporter": "python",
   "pygments_lexer": "ipython3",
   "version": "3.7.3"
  }
 },
 "nbformat": 4,
 "nbformat_minor": 2
}
