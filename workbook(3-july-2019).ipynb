{
 "cells": [
  {
   "cell_type": "code",
   "execution_count": 5,
   "metadata": {},
   "outputs": [
    {
     "name": "stdout",
     "output_type": "stream",
     "text": [
      "array flattened before deleting as axis is not mentioned : [0 1 2 4 5 6 7 8]\n",
      "element deleted along axis 0 :\n",
      " [[0 1 2]\n",
      " [3 4 5]]\n",
      "\n",
      "Originally:\n",
      " [[0 1 2]\n",
      " [3 4 5]\n",
      " [6 7 8]]\n",
      "element deleted along axis 1 :\n",
      " [[0 1]\n",
      " [3 4]\n",
      " [6 7]]\n"
     ]
    }
   ],
   "source": [
    "#remove\n",
    "import numpy as np\n",
    "arr4=np.arange(9)\n",
    "arr4=arr4.reshape(3,3)\n",
    "arr10=np.delete(arr4,3)\n",
    "print(\"array flattened before deleting as axis is not mentioned :\",arr10)\n",
    "arr11=np.delete(arr4,2,axis=0)\n",
    "print(\"element deleted along axis 0 :\\n\",arr11)\n",
    "print(\"\\nOriginally:\\n\",arr4)\n",
    "arr11=np.delete(arr4,2,axis=1)\n",
    "print(\"element deleted along axis 1 :\\n\",arr11)"
   ]
  },
  {
   "cell_type": "code",
   "execution_count": 5,
   "metadata": {},
   "outputs": [],
   "source": [
    "#methods---> .add, .subtract, .multiply, .divide"
   ]
  },
  {
   "cell_type": "code",
   "execution_count": 8,
   "metadata": {},
   "outputs": [
    {
     "name": "stdout",
     "output_type": "stream",
     "text": [
      "[[ 1 10 11]\n",
      " [20 30 40]\n",
      " [31 21 15]]\n",
      "\n",
      "mean along row: [ 7.33333333 30.         22.33333333]\n",
      "\n",
      "Sorted array wrt means in ascending order : \n",
      " [array([ 1, 10, 11]), array([31, 21, 15]), array([20, 30, 40])]\n"
     ]
    }
   ],
   "source": [
    "#median\n",
    "\n",
    "arr3=np.array([[1,10,11],[20,30,40],[31,21,15]])\n",
    "print(arr3)\n",
    "\n",
    "arr4=np.mean(arr3,axis=1)\n",
    "print(\"\\nmean along row:\",arr4)\n",
    "list1=[]\n",
    "m=np.sort(arr4)\n",
    "\n",
    "for i in m:\n",
    "    for j in arr3:\n",
    "        if np.mean(j,axis=0)==i: #matching means with sorted means\n",
    "            list1.append(j)\n",
    "print(\"\\nSorted array wrt means in ascending order :\",\"\\n\",list1)"
   ]
  },
  {
   "cell_type": "code",
   "execution_count": null,
   "metadata": {},
   "outputs": [],
   "source": [
    "#series\n"
   ]
  }
 ],
 "metadata": {
  "kernelspec": {
   "display_name": "Python 3",
   "language": "python",
   "name": "python3"
  },
  "language_info": {
   "codemirror_mode": {
    "name": "ipython",
    "version": 3
   },
   "file_extension": ".py",
   "mimetype": "text/x-python",
   "name": "python",
   "nbconvert_exporter": "python",
   "pygments_lexer": "ipython3",
   "version": "3.7.3"
  }
 },
 "nbformat": 4,
 "nbformat_minor": 2
}
