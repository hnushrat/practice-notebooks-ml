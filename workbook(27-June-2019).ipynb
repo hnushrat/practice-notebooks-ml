{
 "cells": [
  {
   "cell_type": "code",
   "execution_count": null,
   "metadata": {},
   "outputs": [],
   "source": []
  },
  {
   "cell_type": "code",
   "execution_count": 8,
   "metadata": {},
   "outputs": [
    {
     "name": "stdout",
     "output_type": "stream",
     "text": [
      "<class 'str'>\n",
      "2368114540816\n",
      "2368032278880\n",
      "2368114540816\n"
     ]
    }
   ],
   "source": [
    "var = \"hello\"\n",
    "print(type(var))\n",
    "print(id(var))\n",
    "var = \"h\"\n",
    "print(id(var))\n",
    "var = \"hello\"\n",
    "print(id(var))"
   ]
  },
  {
   "cell_type": "code",
   "execution_count": 3,
   "metadata": {},
   "outputs": [
    {
     "name": "stdout",
     "output_type": "stream",
     "text": [
      "prime numbers are :\n",
      "2 , 3 , 5 , 7 , 11 , 13 , 17 , 19 , "
     ]
    }
   ],
   "source": [
    "#display the prime numbers between 1 and 20?\n",
    "import math\n",
    "print(\"prime numbers are :\")\n",
    "print(\"2\",\",\",end=\" \")\n",
    "for i in range(3,21):\n",
    "    f=0\n",
    "    for j in range(2,int(math.sqrt(i)+1)):\n",
    "        if i % j == 0:\n",
    "            f=1\n",
    "    if f==0:\n",
    "        print(i,\",\",end=\" \")\n"
   ]
  },
  {
   "cell_type": "code",
   "execution_count": null,
   "metadata": {},
   "outputs": [],
   "source": [
    "#iterating through strings\n",
    "\n",
    "# str.count(\"<data>\",<start index>,<end index>)-->shows count of <data> in the string.\n",
    "\n",
    "# str.split(\",\")-->splits the string into lists completely till last delimiter is encountered ,\"here ',' \".\n",
    "\n",
    "# str.split(\",\",<split_limit>)--> limits number of splits of a string on encountering a delimiter and prints remaining string as it is as a whole.\n",
    "\n",
    "# str.isdigit()--> checks if str has a digit as value.\n",
    "\n",
    "# str.find(\"<data>\",<start index>,<ending index>)--> returns index of data if found, else negative 1.\n",
    "\n",
    "\n",
    "#Question: str =\"HELLO\"\n",
    "/**output:\n",
    "    H\n",
    "    HE\n",
    "    HEL\n",
    "    HELL\n",
    "    HELLO **/\n",
    "    \n",
    "#Question: str =\"HELLO\"\n",
    "\n",
    "/** Output:\n",
    "    pascals triangle\n",
    "**/"
   ]
  },
  {
   "cell_type": "code",
   "execution_count": 34,
   "metadata": {},
   "outputs": [
    {
     "name": "stdout",
     "output_type": "stream",
     "text": [
      "\n",
      "H\n",
      "HE\n",
      "HEL\n",
      "HELL\n",
      "HELLO\n"
     ]
    }
   ],
   "source": [
    "str=\"HELLO\"\n",
    "for i in range(0,len(str)+1):\n",
    "    print(str[:i])"
   ]
  },
  {
   "cell_type": "code",
   "execution_count": 16,
   "metadata": {},
   "outputs": [
    {
     "name": "stdout",
     "output_type": "stream",
     "text": [
      "       ( \r\n",
      "      ( ) \r\n",
      "     ( ) ( \r\n",
      "    ( ) ( ) \r\n",
      "   ( ) ( ) ( \r\n",
      "  ( ) ( ) ( ) \r\n",
      " ( ) ( ) ( ) ) \r\n"
     ]
    }
   ],
   "source": [
    "str=\"()()())\"\n",
    "for i in range(len(str),0,-1):\n",
    "    for j in range(0,i):\n",
    "        print(\" \",end=\"\")\n",
    "    for k in range(0,len(str)-i+1):\n",
    "        print(str[k],end=\" \")\n",
    "    print(\"\\r\")"
   ]
  },
  {
   "cell_type": "code",
   "execution_count": null,
   "metadata": {},
   "outputs": [],
   "source": []
  }
 ],
 "metadata": {
  "kernelspec": {
   "display_name": "Python 3",
   "language": "python",
   "name": "python3"
  },
  "language_info": {
   "codemirror_mode": {
    "name": "ipython",
    "version": 3
   },
   "file_extension": ".py",
   "mimetype": "text/x-python",
   "name": "python",
   "nbconvert_exporter": "python",
   "pygments_lexer": "ipython3",
   "version": "3.7.3"
  }
 },
 "nbformat": 4,
 "nbformat_minor": 2
}
