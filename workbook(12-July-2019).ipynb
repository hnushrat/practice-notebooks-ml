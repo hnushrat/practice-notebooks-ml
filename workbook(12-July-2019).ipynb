{
 "cells": [
  {
   "cell_type": "code",
   "execution_count": 3,
   "metadata": {},
   "outputs": [
    {
     "name": "stdout",
     "output_type": "stream",
     "text": [
      "(237, 4)\n"
     ]
    },
    {
     "data": {
      "text/html": [
       "<div>\n",
       "<style scoped>\n",
       "    .dataframe tbody tr th:only-of-type {\n",
       "        vertical-align: middle;\n",
       "    }\n",
       "\n",
       "    .dataframe tbody tr th {\n",
       "        vertical-align: top;\n",
       "    }\n",
       "\n",
       "    .dataframe thead th {\n",
       "        text-align: right;\n",
       "    }\n",
       "</style>\n",
       "<table border=\"1\" class=\"dataframe\">\n",
       "  <thead>\n",
       "    <tr style=\"text-align: right;\">\n",
       "      <th></th>\n",
       "      <th>Gender</th>\n",
       "      <th>Age Range</th>\n",
       "      <th>Head size</th>\n",
       "      <th>Brain Weights</th>\n",
       "    </tr>\n",
       "  </thead>\n",
       "  <tbody>\n",
       "    <tr>\n",
       "      <th>0</th>\n",
       "      <td>1</td>\n",
       "      <td>1</td>\n",
       "      <td>4512</td>\n",
       "      <td>1530</td>\n",
       "    </tr>\n",
       "    <tr>\n",
       "      <th>1</th>\n",
       "      <td>1</td>\n",
       "      <td>1</td>\n",
       "      <td>3738</td>\n",
       "      <td>1297</td>\n",
       "    </tr>\n",
       "    <tr>\n",
       "      <th>2</th>\n",
       "      <td>1</td>\n",
       "      <td>1</td>\n",
       "      <td>4261</td>\n",
       "      <td>1335</td>\n",
       "    </tr>\n",
       "    <tr>\n",
       "      <th>3</th>\n",
       "      <td>1</td>\n",
       "      <td>1</td>\n",
       "      <td>3777</td>\n",
       "      <td>1282</td>\n",
       "    </tr>\n",
       "    <tr>\n",
       "      <th>4</th>\n",
       "      <td>1</td>\n",
       "      <td>1</td>\n",
       "      <td>4177</td>\n",
       "      <td>1590</td>\n",
       "    </tr>\n",
       "  </tbody>\n",
       "</table>\n",
       "</div>"
      ],
      "text/plain": [
       "   Gender  Age Range  Head size  Brain Weights\n",
       "0       1          1       4512           1530\n",
       "1       1          1       3738           1297\n",
       "2       1          1       4261           1335\n",
       "3       1          1       3777           1282\n",
       "4       1          1       4177           1590"
      ]
     },
     "execution_count": 3,
     "metadata": {},
     "output_type": "execute_result"
    },
    {
     "data": {
      "text/plain": [
       "<Figure size 7200x720 with 0 Axes>"
      ]
     },
     "metadata": {},
     "output_type": "display_data"
    }
   ],
   "source": [
    "import pandas as pd\n",
    "import numpy as np\n",
    "import matplotlib.pyplot as plt\n",
    "plt.figure(figsize=(100,10))\n",
    "data=pd.read_csv(\"Headbrain.csv\")\n",
    "print(data.shape)\n",
    "data.head()"
   ]
  },
  {
   "cell_type": "code",
   "execution_count": 18,
   "metadata": {},
   "outputs": [
    {
     "name": "stdout",
     "output_type": "stream",
     "text": [
      "Slope is :  0.26342933948939945\n",
      "Y-intercept is :  325.57342104944223\n"
     ]
    }
   ],
   "source": [
    "x=data['Head size'].values\n",
    "y=data['Brain Weights'].values\n",
    "\n",
    "#mean of x and y\n",
    "numerator=0\n",
    "denominator=0\n",
    "#sum((x-x_mean)(y-y_mean))/sum(x-x_mean)^2=slope\n",
    "mean_x=np.mean(x) \n",
    "mean_y=np.mean(y)\n",
    "\n",
    "for i,j in zip(x,y):\n",
    "    numerator+=np.sum((i-mean_x)*(j-mean_y))\n",
    "    denominator+=np.sum(i-mean_x)**2\n",
    "    slope=numerator/denominator\n",
    "c=mean_y-(slope*mean_x)\n",
    "print(\"Slope is : \",slope)\n",
    "print(\"Y-intercept is : \",c)"
   ]
  },
  {
   "cell_type": "code",
   "execution_count": 21,
   "metadata": {},
   "outputs": [
    {
     "name": "stdout",
     "output_type": "stream",
     "text": [
      "[1514.1666008256125, 1310.2722920608173, 1448.0458366137732, 1320.546036300904, 1425.9177720966638, 1269.9676031189392, 1322.6534710168191, 1263.118440292215, 1277.3436246246424, 1374.549050896231, 1232.5606369114446, 1377.4467736306142, 1284.4562167908562, 1434.0840816208351, 1335.034649972821, 1346.6255409103546, 1246.785821243872, 1238.6195117197008, 1140.8872267691336, 1490.9848189505453, 1347.1523995893333, 1391.4085286235525, 1327.6586284671178, 1302.8962705551141, 1576.0724956056215, 1490.721389611056, 1388.7742352286584, 1385.0862244758068, 1235.4583596458278, 1425.390913417685, 1323.1803296957978, 1325.5511937512024, 1406.424000974448, 1421.7029026648333, 1420.9126146463652, 1330.2929218620118, 1254.688701428554, 1312.9065854557114, 1203.8468389071, 1245.468674546425, 1369.2804641064429, 1248.8932559597874, 1462.271020946201, 1327.6586284671178, 1343.2009594969923, 1388.2473765496795, 1460.427015569775, 1159.3272805333913, 1284.7196461303456, 1285.509934148814, 1350.5769810026954, 1324.7609057327345, 1450.4167006691778, 1395.8868273948722, 1382.4519310809128, 1236.5120770037856, 1350.313551663206, 1423.0200493622804, 1362.1678719402291, 1292.0956676360488, 1343.9912475154606, 1219.3891699369747, 1495.7265470613545, 1445.938401897858, 1307.374569326434, 1202.5296922096531, 1225.1846154057414, 1213.8571538076972, 1492.5653949874818, 1479.6573573525013, 1381.3982137229552, 1341.8838127995455, 1411.1657290852575, 1394.3062513579357, 1332.9272152569056, 1219.6525992764641, 1262.8550109527255, 1211.2228604128031, 1360.8507252427821, 1335.824937991289, 1334.5077912938423, 1341.3569541205666, 1181.455345050501, 1267.860168403024, 1361.6410132612502, 1339.77637808363, 1197.261105419865, 1222.8137513503366, 1249.1566852992767, 1354.791850434526, 1421.439473325344, 1199.6319694752697, 1290.2516622596231, 1352.6844157186106, 1300.2619771602203, 1321.0728949798827, 1240.4635170961265, 1244.9418158674462, 1288.144227543708, 1241.7806637935735, 1246.2589625648934, 1335.5615086517996, 1346.6255409103546, 1289.9882329201337, 1278.6607713220894, 1286.5636515067713, 1387.7205178707009, 1220.969745973911, 1357.1627144899305, 1492.5653949874818, 1298.944830462773, 1253.898413410086, 1266.2795923660876, 1272.3384671743438, 1216.7548765420806, 1247.3126799228507, 1271.021320476897, 1352.9478450581, 1409.3217237088315, 1362.6947306192078, 1220.969745973911, 1431.97664690492, 1507.8442966778669, 1277.6070539641319, 1392.7256753209995, 1321.863182998351, 1218.8623112579958, 1148.5266776143262, 1393.2525339999781, 1269.177315100471, 1291.3053796175805, 1256.0058481260012, 1391.4085286235525, 1291.56880895707, 1078.1910439706564, 1230.7166315350187, 1324.2340470537556, 1195.4171000434392, 1143.2580908245382, 1160.907856570328, 1266.543021705577, 1255.4789894470223, 1161.9615739282854, 1231.2434902139976, 1353.7381330765684, 1352.6844157186106, 1221.4966046528898, 1186.19707316131, 1234.6680716273597, 1139.5700800716866, 1224.6577567267625, 1200.9491161727165, 1294.9933903704323, 1231.506919553487, 1340.5666661020982, 1156.9564164779867, 1189.358225235183, 1302.105982536646, 1380.8713550439763, 1186.723931840289, 1134.564922621388, 1321.0728949798827, 1260.2207175578314, 1192.7828066485454, 1246.785821243872, 1137.4626453557712, 1181.1919157110117, 1210.1691430548456, 1327.3951991276283, 1264.9624456686406, 1154.0586937436035, 1248.3663972808085, 1266.2795923660876, 1306.5842813079657, 1277.8704833036213, 1169.3375954339886, 1276.2899072666848, 1263.6452989711938, 1373.7587628777626, 1256.2692774654906, 1297.3642544258369, 1157.4832751569656, 1380.6079257044871, 1163.542149965222, 1242.044093133063, 1284.983075469835, 1282.348782074941, 1134.0380639424093, 1219.6525992764641, 1301.0522651786882, 1159.3272805333913, 1209.115425696888, 1115.8614395176405, 1296.837395746858, 1262.3281522737466, 1056.0629794535469, 1131.1403412080258, 1206.481132301994, 1245.7321038859145, 1194.0999533459922, 1210.6960017338242, 1175.9233289212236, 1188.831366556204, 1340.0398074231196, 1133.5112052634304, 1298.154542444305, 1221.7600339923792, 1377.973632309593, 1199.6319694752697, 1042.1012244606086, 1099.2653911298084, 1268.6504564214922, 1099.7922498087873, 1112.963716783257, 1270.2310324584287, 1156.9564164779867, 1180.6650570320328, 1160.6444272308386, 1186.4605025007995, 1218.3354525790169, 1216.2280178631017, 1080.0350493470823, 1310.799150739796, 1242.044093133063, 1286.300222167282, 1304.4768465920506, 1190.67537193263, 1433.0303642628776, 1309.4820040423492, 1173.2890355263298, 1296.310537067879, 1301.3156945181777, 1172.235318168372, 1219.6525992764641, 1177.2404756186706, 1208.588567017909, 1218.8623112579958]\n"
     ]
    }
   ],
   "source": [
    "y_predict=[]\n",
    "for i in x:\n",
    "    y_predict.append(slope*i+c)\n",
    "print(y_predict)"
   ]
  },
  {
   "cell_type": "code",
   "execution_count": 25,
   "metadata": {},
   "outputs": [
    {
     "name": "stdout",
     "output_type": "stream",
     "text": [
      "\n",
      "Error is :  0.6393117199570001\n"
     ]
    }
   ],
   "source": [
    "#error=sum(yp-y_mean)^2/sum(y-y_mean)^2\n",
    "nume=0\n",
    "deno=0\n",
    "for i,j in zip(y_predict,y):\n",
    "    nume+=(i-mean_y)**2\n",
    "    deno+=(j-mean_y)**2\n",
    "error=nume/deno\n",
    "print(\"\\nError is : \",error)"
   ]
  },
  {
   "cell_type": "code",
   "execution_count": 27,
   "metadata": {},
   "outputs": [
    {
     "data": {
      "text/html": [
       "<div>\n",
       "<style scoped>\n",
       "    .dataframe tbody tr th:only-of-type {\n",
       "        vertical-align: middle;\n",
       "    }\n",
       "\n",
       "    .dataframe tbody tr th {\n",
       "        vertical-align: top;\n",
       "    }\n",
       "\n",
       "    .dataframe thead th {\n",
       "        text-align: right;\n",
       "    }\n",
       "</style>\n",
       "<table border=\"1\" class=\"dataframe\">\n",
       "  <thead>\n",
       "    <tr style=\"text-align: right;\">\n",
       "      <th></th>\n",
       "      <th>Gender</th>\n",
       "      <th>Age Range</th>\n",
       "      <th>Head size</th>\n",
       "      <th>Brain Weights</th>\n",
       "    </tr>\n",
       "  </thead>\n",
       "  <tbody>\n",
       "    <tr>\n",
       "      <th>0</th>\n",
       "      <td>1</td>\n",
       "      <td>1</td>\n",
       "      <td>4512</td>\n",
       "      <td>1530</td>\n",
       "    </tr>\n",
       "    <tr>\n",
       "      <th>1</th>\n",
       "      <td>1</td>\n",
       "      <td>1</td>\n",
       "      <td>3738</td>\n",
       "      <td>1297</td>\n",
       "    </tr>\n",
       "    <tr>\n",
       "      <th>2</th>\n",
       "      <td>1</td>\n",
       "      <td>1</td>\n",
       "      <td>4261</td>\n",
       "      <td>1335</td>\n",
       "    </tr>\n",
       "    <tr>\n",
       "      <th>3</th>\n",
       "      <td>1</td>\n",
       "      <td>1</td>\n",
       "      <td>3777</td>\n",
       "      <td>1282</td>\n",
       "    </tr>\n",
       "    <tr>\n",
       "      <th>4</th>\n",
       "      <td>1</td>\n",
       "      <td>1</td>\n",
       "      <td>4177</td>\n",
       "      <td>1590</td>\n",
       "    </tr>\n",
       "  </tbody>\n",
       "</table>\n",
       "</div>"
      ],
      "text/plain": [
       "   Gender  Age Range  Head size  Brain Weights\n",
       "0       1          1       4512           1530\n",
       "1       1          1       3738           1297\n",
       "2       1          1       4261           1335\n",
       "3       1          1       3777           1282\n",
       "4       1          1       4177           1590"
      ]
     },
     "execution_count": 27,
     "metadata": {},
     "output_type": "execute_result"
    }
   ],
   "source": [
    "#linear regression using LIBRARY\n",
    "import pandas as pd\n",
    "import numpy as np\n",
    "import matplotlib.pyplot as plt\n",
    "from sklearn import linear_model\n",
    "from sklearn.model_selection import train_test_split\n",
    "\n",
    "df=pd.read_csv(\"Headbrain.csv\")\n",
    "df.head()"
   ]
  },
  {
   "cell_type": "code",
   "execution_count": 28,
   "metadata": {},
   "outputs": [
    {
     "name": "stdout",
     "output_type": "stream",
     "text": [
      "(237,)\n",
      "(237, 1)\n"
     ]
    }
   ],
   "source": [
    "x=df[\"Head size\"].values\n",
    "print(x.shape)\n",
    "m=len(x)\n",
    "x=x.reshape((m,-1)) #request python to assign column\n",
    "print(x.shape)\n",
    "y=df[\"Brain Weights\"].values\n",
    "y=y.reshape((m,-1))"
   ]
  },
  {
   "cell_type": "code",
   "execution_count": 29,
   "metadata": {},
   "outputs": [
    {
     "name": "stdout",
     "output_type": "stream",
     "text": [
      "[1322.14554035]\n",
      "[1400]\n",
      "0.6392584651553941\n"
     ]
    }
   ],
   "source": [
    "regmodel=linear_model.LinearRegression()\n",
    "x_train,x_test,y_train,y_test=train_test_split(x,y,test_size=0.3,random_state=42)\n",
    "regmodel.fit(x_train,y_train)\n",
    "a=regmodel.predict(x_test)\n",
    "print(a[4])\n",
    "print(y_test[4])\n",
    "r2=regmodel.score(x,y)\n",
    "print(r2)"
   ]
  },
  {
   "cell_type": "code",
   "execution_count": null,
   "metadata": {},
   "outputs": [],
   "source": []
  }
 ],
 "metadata": {
  "kernelspec": {
   "display_name": "Python 3",
   "language": "python",
   "name": "python3"
  },
  "language_info": {
   "codemirror_mode": {
    "name": "ipython",
    "version": 3
   },
   "file_extension": ".py",
   "mimetype": "text/x-python",
   "name": "python",
   "nbconvert_exporter": "python",
   "pygments_lexer": "ipython3",
   "version": "3.7.3"
  }
 },
 "nbformat": 4,
 "nbformat_minor": 2
}
