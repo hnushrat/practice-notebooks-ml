{
 "cells": [
  {
   "cell_type": "code",
   "execution_count": 2,
   "metadata": {
    "scrolled": true
   },
   "outputs": [
    {
     "name": "stdout",
     "output_type": "stream",
     "text": [
      "sachin\n",
      "sachin\n",
      "saurav\n",
      "dhoni\n",
      "(2, 3, 4, 5)\n"
     ]
    }
   ],
   "source": [
    "#tuples\n",
    "tuple1=(\"sachin\",\"saurav\",\"dhoni\")\n",
    "print(tuple1[0])\n",
    "for x in tuple1:\n",
    "    print(x)\n",
    "    \n",
    "#accessing values in tuple\n",
    "\n",
    "tup2=(1,2,3,4,5,6)\n",
    "print(tup2[1:5])"
   ]
  },
  {
   "cell_type": "code",
   "execution_count": 3,
   "metadata": {},
   "outputs": [
    {
     "name": "stdout",
     "output_type": "stream",
     "text": [
      "[1 2 3]\n",
      "<class 'numpy.ndarray'>\n",
      "int32\n",
      "1\n",
      "[[1 2 3]\n",
      " [4 5 6]]\n",
      "2\n",
      "2\n"
     ]
    }
   ],
   "source": [
    "import numpy as np\n",
    "#1D array\n",
    "arr1=np.array([1,2,3])\n",
    "print(arr1)\n",
    "print(type(arr1))\n",
    "print(arr1.dtype)\n",
    "print(arr1[0])\n",
    "\n",
    "#nd array\n",
    "arr2=np.array([[1,2,3],[4,5,6]])\n",
    "print(arr2)\n",
    "print(arr2[0,1])\n",
    "print(arr2.ndim)"
   ]
  },
  {
   "cell_type": "code",
   "execution_count": 4,
   "metadata": {},
   "outputs": [
    {
     "name": "stdout",
     "output_type": "stream",
     "text": [
      "[9 2]\n",
      "1\n",
      "[[9]\n",
      " [2]]\n",
      "2\n"
     ]
    }
   ],
   "source": [
    "arr2=np.array([(9),(2)])\n",
    "print(arr2)\n",
    "print(arr2.ndim)\n",
    "arr2=np.array([(9,),(2,)])\n",
    "print(arr2)\n",
    "print(arr2.ndim)"
   ]
  },
  {
   "cell_type": "code",
   "execution_count": 15,
   "metadata": {},
   "outputs": [
    {
     "name": "stdout",
     "output_type": "stream",
     "text": [
      "[9. 2.]\n",
      "float64\n"
     ]
    }
   ],
   "source": [
    "import numpy as np\n",
    "#data_types\n",
    "arr3=np.array([9,2],dtype=float)\n",
    "print(arr3)\n",
    "print(arr3.dtype)"
   ]
  },
  {
   "cell_type": "code",
   "execution_count": 6,
   "metadata": {},
   "outputs": [
    {
     "name": "stdout",
     "output_type": "stream",
     "text": [
      "(3, 2)\n",
      "[[10 20]\n",
      " [30 40]\n",
      " [30 40]]\n"
     ]
    }
   ],
   "source": [
    "#shape returns tuple consisting of array dimensions\n",
    "\n",
    "arr1=np.array([[10,20],[30,40],[30,40]])\n",
    "print(arr1.shape)\n",
    "print(arr1)"
   ]
  },
  {
   "cell_type": "code",
   "execution_count": 7,
   "metadata": {},
   "outputs": [
    {
     "name": "stdout",
     "output_type": "stream",
     "text": [
      "(2, 3)\n",
      "(3, 2)\n",
      "[[10 20]\n",
      " [30 50]\n",
      " [30 40]]\n"
     ]
    }
   ],
   "source": [
    "#resize the shapes\n",
    "\n",
    "arr1=np.array([[10,20,30],[50,30,40]])\n",
    "print(arr1.shape)\n",
    "arr1.shape=(3,2)\n",
    "print(arr1.shape)\n",
    "\n",
    "print(arr1)"
   ]
  },
  {
   "cell_type": "code",
   "execution_count": 19,
   "metadata": {},
   "outputs": [
    {
     "name": "stdout",
     "output_type": "stream",
     "text": [
      "[[10 20 30]\n",
      " [50 30 40]]\n",
      "\n",
      " [[10 20]\n",
      " [30 50]\n",
      " [30 40]]\n"
     ]
    }
   ],
   "source": [
    "#reshape\n",
    "b=arr1.reshape(2,3)\n",
    "print(b)\n",
    "print(\"\\n\",arr1)"
   ]
  },
  {
   "cell_type": "code",
   "execution_count": 6,
   "metadata": {},
   "outputs": [
    {
     "name": "stdout",
     "output_type": "stream",
     "text": [
      "Filled with random values :\n",
      " [[0 0]\n",
      " [0 0]\n",
      " [0 0]]\n",
      "filled with zeroes: \n",
      " [[0. 0.]\n",
      " [0. 0.]\n",
      " [0. 0.]]\n",
      "filled with zeroes: \n",
      " [[0 0]\n",
      " [0 0]\n",
      " [0 0]]\n",
      "filled with 1: \n",
      " [[1 1]\n",
      " [1 1]\n",
      " [1 1]]\n"
     ]
    }
   ],
   "source": [
    "#empty()--> creates an uninitialized array\n",
    "arr1=np.empty([3,2],dtype=int)\n",
    "print(\"Filled with random values :\\n\",arr1) #filled with random values\n",
    "\n",
    "#zeros-->creates an array filled with zeroes\n",
    "\n",
    "arr2=np.zeros([3,2])\n",
    "print(\"filled with zeroes: \\n\",arr2)\n",
    "\n",
    "arr2=np.zeros([3,2],dtype=int) #default data-type is float, now changed to int\n",
    "\n",
    "print(\"filled with zeroes: \\n\",arr2)\n",
    "\n",
    "# print array with ones\n",
    "arr2=np.ones([3,2],dtype=int)\n",
    "\n",
    "print(\"filled with 1: \\n\",arr2)"
   ]
  },
  {
   "cell_type": "code",
   "execution_count": 7,
   "metadata": {},
   "outputs": [
    {
     "name": "stdout",
     "output_type": "stream",
     "text": [
      "Dimension of array : 2\n",
      "array from list of tuples:\n",
      " [[1 2 3]\n",
      " [4 5 6]]\n"
     ]
    }
   ],
   "source": [
    "#nd array from list of tuple\n",
    "list1=[(1,2,3),(4,5,6)]\n",
    "arr4=np.array(list1)\n",
    "print(\"Dimension of array :\",arr4.ndim)\n",
    "print(\"array from list of tuples:\\n\",arr4)"
   ]
  },
  {
   "cell_type": "code",
   "execution_count": 20,
   "metadata": {},
   "outputs": [
    {
     "name": "stdout",
     "output_type": "stream",
     "text": [
      "[0 1 2 3 4 5 6 7 8 9]\n",
      "[0. 1. 2. 3. 4. 5. 6. 7. 8. 9.]\n",
      "[2 4 6 8]\n",
      "upper bound included : [ 2.          4.66666667  7.33333333 10.        ]\n",
      "upper bound not included :  [2 4 7]\n"
     ]
    }
   ],
   "source": [
    "import numpy as np\n",
    "\n",
    "#arange-->evenly spaced numbers from range\n",
    "\n",
    "arr1=np.arange(10) #upper bound not included\n",
    "print(arr1)\n",
    "\n",
    "arr2=np.arange(10,dtype=float)\n",
    "print(arr2)\n",
    "\n",
    "arr3=np.arange(2,10,2)\n",
    "print(arr3) #start,stop,step\n",
    "\n",
    "#linspace--> instead of step,the number of interval is uniform\n",
    "\n",
    "arr4=np.linspace(2,10,4)#end-point is to include the upper bound...here start,stop,any 'n' numbers\n",
    "print(\"upper bound included :\",arr4)\n",
    "\n",
    "arr4=np.linspace(2,10,3,endpoint=False,dtype=int)\n",
    "print(\"upper bound not included : \",arr4)"
   ]
  },
  {
   "cell_type": "code",
   "execution_count": 8,
   "metadata": {},
   "outputs": [
    {
     "name": "stdout",
     "output_type": "stream",
     "text": [
      "2. after slicing : [2 3 4 5 6 7 8]\n",
      "3. after slicing : [2 3 4 5 6 7 8 9]\n",
      "4. after slicing : \n",
      " [[2 3]\n",
      " [5 6]\n",
      " [8 9]]\n"
     ]
    }
   ],
   "source": [
    "#array slicing\n",
    "\n",
    "arr1=np.arange(10)\n",
    "\n",
    "print(\"2. after slicing :\",arr1[2:9:1])#here 'values' are passed not 'INDEX'\n",
    "print(\"3. after slicing :\",arr1[2:])#here 'values' are passed not 'INDEX'\n",
    "\n",
    "#slicing for ndarray\n",
    "arr2=np.array([[1,2,3],[4,5,6],[7,8,9]])\n",
    "print(\"4. after slicing : \\n\",arr2[:,1:])#first argument is for rows to select, and second argument for columns"
   ]
  },
  {
   "cell_type": "code",
   "execution_count": 9,
   "metadata": {},
   "outputs": [
    {
     "name": "stdout",
     "output_type": "stream",
     "text": [
      "demo of ellipses\n",
      "-----------\n",
      "5. after slicing : [2 5 8]\n",
      "6. after slicing : [ 7  8  9 11]\n",
      "7. after slicing :\n",
      " [[ 2  3  4]\n",
      " [ 5  6 10]\n",
      " [ 8  9 11]]\n"
     ]
    }
   ],
   "source": [
    "#using ellipses\n",
    "arr4=np.array([[1,2,3,4],[4,5,6,10],[7,8,9,11]])\n",
    "print(\"demo of ellipses\")\n",
    "print(\"-----------\")\n",
    "#(...) indicates every,first argument is for rows and second is for columns\n",
    "print(\"5. after slicing :\",arr4[...,1])\n",
    "print(\"6. after slicing :\",arr4[2,...])\n",
    "print(\"7. after slicing :\\n\",arr4[...,1:])"
   ]
  },
  {
   "cell_type": "code",
   "execution_count": 33,
   "metadata": {},
   "outputs": [
    {
     "name": "stdout",
     "output_type": "stream",
     "text": [
      "[2 4 9]\n",
      "corner elements : [1 9]\n"
     ]
    }
   ],
   "source": [
    "#integer indexing\n",
    "arr5=np.array([[1,2,3],[4,5,6],[7,8,9]])\n",
    "y=arr5[[0,1,2],[1,0,2]] #combinations of pairs (0,1)(1,0)(2,2)\n",
    "print(y)\n",
    "y=arr5[[0,2],[0,2]]\n",
    "print(\"corner elements :\",y)"
   ]
  },
  {
   "cell_type": "code",
   "execution_count": 22,
   "metadata": {},
   "outputs": [
    {
     "name": "stdout",
     "output_type": "stream",
     "text": [
      "Multiplication on arrays of same shape : [[400 600 600]\n",
      " [ 14  18  20]]\n",
      "array after addition : [[ 2  3  4]\n",
      " [21 32 43]\n",
      " [51 62 73]]\n"
     ]
    }
   ],
   "source": [
    "#broadcasting when operations of multiple arrays with shape\n",
    "arr7=np.array([[10,20,30],[2,3,4]])\n",
    "arr8=np.array([[40,30,20],[7,6,5]])\n",
    "print(\"Multiplication on arrays of same shape :\",arr7*arr8)\n",
    "\n",
    "#smaller array is broadcasted to larger array\n",
    "\n",
    "arr8=np.array([[1,1,1],[20,30,40],[50,60,70]])\n",
    "arr9=np.array([1,2,3])\n",
    "print(\"array after addition :\",arr8+arr9)"
   ]
  },
  {
   "cell_type": "code",
   "execution_count": 10,
   "metadata": {},
   "outputs": [
    {
     "name": "stdout",
     "output_type": "stream",
     "text": [
      "concatenate along 0 axis :\n",
      " [[2 3]\n",
      " [4 5]\n",
      " [6 7]\n",
      " [8 9]]\n",
      "concatenate along 1 axis :\n",
      " [[2 3 6 7]\n",
      " [4 5 8 9]]\n"
     ]
    }
   ],
   "source": [
    "#concatenate\n",
    "arr1=np.array([[2,3],[4,5]])\n",
    "arr2=np.array([[6,7],[8,9]])\n",
    "resarr=np.concatenate((arr1,arr2))#default axis=0\n",
    "print(\"concatenate along 0 axis :\\n\",resarr)\n",
    "resarr=np.concatenate(((arr1,arr2)),axis=1)\n",
    "print(\"concatenate along 1 axis :\\n\",resarr)"
   ]
  },
  {
   "cell_type": "code",
   "execution_count": 37,
   "metadata": {},
   "outputs": [
    {
     "name": "stdout",
     "output_type": "stream",
     "text": [
      "whole array : [0 1 2 3 4 5 6 7 8]\n",
      "after splitting in 3 equal sized axis:  [array([0, 1, 2]), array([3, 4, 5]), array([6, 7, 8])]\n"
     ]
    }
   ],
   "source": [
    "#split\n",
    "arr3=np.arange(9)\n",
    "print(\"whole array :\",arr3)\n",
    "arr4=np.split(arr3,3)\n",
    "print(\"after splitting in 3 equal sized axis: \",arr4)"
   ]
  },
  {
   "cell_type": "code",
   "execution_count": 15,
   "metadata": {},
   "outputs": [
    {
     "name": "stdout",
     "output_type": "stream",
     "text": [
      "before appending :\n",
      " [[0 1 2]\n",
      " [3 4 5]\n",
      " [6 7 8]]\n",
      "\n",
      "after appending : [ 0  1  2  3  4  5  6  7  8 10 11 12]\n",
      "\n",
      "appended at axis 1 :\n",
      " [[ 0  1  2 10 11 12]\n",
      " [ 3  4  5 13 14 15]\n",
      " [ 6  7  8 16 17 18]]\n",
      "\n",
      "appended at axis 0 :\n",
      " [[ 0  1  2]\n",
      " [ 3  4  5]\n",
      " [ 6  7  8]\n",
      " [10 11 12]]\n"
     ]
    }
   ],
   "source": [
    "#append elements\n",
    "arr4=np.arange(9)\n",
    "arr4=arr4.reshape(3,3)\n",
    "print(\"before appending :\\n\",arr4)\n",
    "arr5=np.append(arr4,[10,11,12])\n",
    "print(\"\\nafter appending :\",arr5)\n",
    "arr6=np.append(arr4,[[10,11,12],[13,14,15],[16,17,18]],axis=1)\n",
    "print(\"\\nappended at axis 1 :\\n\",arr6)\n",
    "arr6=np.append(arr4,[[10,11,12]],axis=0)\n",
    "print(\"\\nappended at axis 0 :\\n\",arr6)"
   ]
  },
  {
   "cell_type": "code",
   "execution_count": 19,
   "metadata": {},
   "outputs": [
    {
     "name": "stdout",
     "output_type": "stream",
     "text": [
      "ARR4:\n",
      " [[0 1 2]\n",
      " [3 4 5]\n",
      " [6 7 8]]\n",
      "\n",
      "Axis parameter not passed hence flattened : [  0   1   2 199   3   4   5   6   7   8]\n",
      "\n",
      "inserted at 3rd index on 0 axis : \n",
      " [[ 0  1  2]\n",
      " [ 3  4  5]\n",
      " [ 6  7  8]\n",
      " [11 11 11]]\n",
      "\n",
      "inserted at 3rd index in 1 axis : \n",
      " [[  0   1   2 290]\n",
      " [  3   4   5 290]\n",
      " [  6   7   8 290]]\n"
     ]
    }
   ],
   "source": [
    "#insert at specific location\n",
    "arr4=np.arange(9)\n",
    "arr4=arr4.reshape(3,3)\n",
    "print(\"ARR4:\\n\",arr4)\n",
    "arr7=np.insert(arr4,3,199)\n",
    "print(\"\\nAxis parameter not passed hence flattened :\",arr7)\n",
    "arr8=np.insert(arr4,3,[11],axis=0)\n",
    "print(\"\\ninserted at 3rd index on 0 axis : \\n\",arr8)\n",
    "arr9=np.insert(arr4,3,[290],axis=1)\n",
    "print(\"\\ninserted at 3rd index in 1 axis : \\n\",arr9)"
   ]
  },
  {
   "cell_type": "code",
   "execution_count": null,
   "metadata": {},
   "outputs": [],
   "source": []
  }
 ],
 "metadata": {
  "kernelspec": {
   "display_name": "Python 3",
   "language": "python",
   "name": "python3"
  },
  "language_info": {
   "codemirror_mode": {
    "name": "ipython",
    "version": 3
   },
   "file_extension": ".py",
   "mimetype": "text/x-python",
   "name": "python",
   "nbconvert_exporter": "python",
   "pygments_lexer": "ipython3",
   "version": "3.7.3"
  }
 },
 "nbformat": 4,
 "nbformat_minor": 2
}
